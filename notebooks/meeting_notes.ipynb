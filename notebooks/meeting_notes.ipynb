{
 "cells": [
  {
   "cell_type": "markdown",
   "id": "ba5ed773",
   "metadata": {},
   "source": [
    "## Reunião 10/09"
   ]
  },
  {
   "cell_type": "markdown",
   "id": "c218dfb2",
   "metadata": {},
   "source": [
    "- estabelecer o mesmo limite eixo x\n",
    "- fazer o histograma junto de 100 rpm e 180 rpm\n",
    "- cenario 1 e 2: tudo ligado com 100 e 180\n",
    "- cenario 3 e 4: desligar rotores 100 e 180\n",
    "- cenario 5: cenário ótimo\n",
    "\n",
    "### Aframax\n",
    "- Histograma de velocidades relativas de vento. velocidade do aframax é 12.5 nós"
   ]
  },
  {
   "cell_type": "markdown",
   "id": "d793f7b4",
   "metadata": {},
   "source": []
  },
  {
   "cell_type": "markdown",
   "id": "753da83e",
   "metadata": {},
   "source": [
    "#### Calculation of the wind propulsion system force matrix"
   ]
  },
  {
   "cell_type": "markdown",
   "id": "25089740",
   "metadata": {},
   "source": [
    "The wind propulsion coefficients4 of the ship's wind assisted propulsion system can \n",
    "be used to predict the wind propulsion system force matrix. Apparent wind is defined as the \n",
    "combination of wind relative to the ground and wind created by the ship's velocity. The steps \n",
    "to calculate the wind propulsion system force matrix are as follows: "
   ]
  },
  {
   "cell_type": "markdown",
   "id": "7312d0bc",
   "metadata": {},
   "source": [
    "1. Determine the velocity of the ship Vref\n",
    "\n",
    "\n",
    "2. Select the average wind speed corresponding to terms in Wk, the global wind \n",
    "probability matrix at 10 m height. For example, the average wind speed \n",
    "corresponding to the first wind speed range (0-1 m/s) of the wind probability \n",
    "matrix is selected as 0.5 m/s, the average wind speed corresponding to the \n",
    "second wind speed range (1-2 m/s) is selected as 1.5 m/s, etc.;\n",
    "\n",
    "\n",
    "3. Extrapolate the wind speed to the reference height of the wind assisted \n",
    "propulsion systems taken as the aerodynamic centre of effort height or half \n",
    "height from the waterline:\n",
    "\n",
    "\n",
    "$$ v_{Z_{ref}} = v_{10m}\\bigg(\\dfrac{Z_{ref}}{10}\\bigg)^{\\alpha}~ ~ for ~~Z_{ref} < 300m$$\n",
    "\n",
    "\n",
    "$$ v_{Z_{ref}} = v_{10m}\\bigg(\\dfrac{300}{10}\\bigg)^{\\alpha}~ ~ for ~~Z_{ref} \\ge 300m$$\n",
    "\n",
    "Where: \n",
    "- $Z_{ref}$ is the reference height above the water line, to be equal to the \n",
    "point of mid-height of each sail, Flettner, etc. in wind assisted \n",
    "propulsion system; \n",
    "- $v_{10m}$ is the wind velocity at 10 m above sea level; \n",
    "- $v_{Z_{ref}}$ is the resulting wind velocity at the reference height; and\n",
    "- $\\alpha$ is taken as 1/9 conforming to ITTC recomendations.\n",
    "\n",
    "4. According to the corresponding average wind speed, wind direction angle \n",
    "and the velocity of the ship, calculate the relative wind speed Vk and the \n",
    "relative wind direction angle of the ship;\n",
    "\n",
    "5. According to the relative wind direction angle, and the corresponding \n",
    "relationship between the relative wind direction angle and the wind \n",
    "propulsion coefficient $\\Delta C_{F_x}$ obtained from the test, calculate the average wind \n",
    "propulsion coefficients $(\\Delta C_{F_x})_k$ of the wind assisted propulsion system \n",
    "corresponding to $(W_k)$; and\n",
    "\n",
    "\n",
    "6. ccording to the average wind propulsion coefficient of the wind assisted \n",
    "propulsion system, calculate the terms of the wind propulsion system force \n",
    "matrix F(Vref)k of the full scale ship corresponding to Wk by following formula:\n",
    "\n",
    "$$F(V_{ref})_k = (\\Delta C_{F_x})_k \\cdot (0.5\\rho V_k^2 A)$$\n",
    "\n",
    "Where: \n",
    "- $(\\Delta C_{F_x})_k$ is the average wind propulsion coefficients corresponding to \n",
    "$W_k$; \n",
    "\n",
    "- $\\rho$ is the average air density in shipping environment, $\\rho = 1.225$ kg/m3$; \n",
    "\n",
    "- $V_k$ is the relative wind velocity of the full-scale ship corresponding to \n",
    "$W_k$; \n",
    "\n",
    "- $A$ is the total projected area of the wind assisted propulsion system; \n",
    "- the settings of the wind propulsor may be varied in order to find the \n",
    "best $(\\Delta C_{F_x})_k$; this may be done using interpolation provided that \n",
    "increments in settings are sufficiently small;\n",
    "\n",
    "- The settings and deployment of the wind assisted propulsion system \n",
    "must adhere to the operational constraints as defined for the system \n",
    "(e.g. a maximum operational wind speed, if lower than provided by \n",
    "the global wind probability matrix, > Bf 8, 19 m/s); \n",
    "- the potential wind drag induced by the system is to be accounted \n",
    "for, such as in unusable wind directions close to head wind and \n",
    "when the systems is not operational due to exceedance of \n",
    "operational limits; and \n",
    "- if $F(V_{ref})_k$ exceeds the resistance of the ship, such that the propeller \n",
    "thrust would be negative, $F(V_{ref})_k$ is to be limited at the resistance \n",
    "value. "
   ]
  },
  {
   "cell_type": "markdown",
   "id": "69f6144b",
   "metadata": {},
   "source": []
  }
 ],
 "metadata": {
  "language_info": {
   "name": "python"
  }
 },
 "nbformat": 4,
 "nbformat_minor": 5
}
