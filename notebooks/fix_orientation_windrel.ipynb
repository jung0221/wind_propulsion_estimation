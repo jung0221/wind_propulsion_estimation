{
 "cells": [
  {
   "cell_type": "code",
   "execution_count": 4,
   "id": "89fa9549",
   "metadata": {},
   "outputs": [],
   "source": [
    "import pandas as pd \n",
    "import os \n",
    "import glob\n",
    "import numpy as np"
   ]
  },
  {
   "cell_type": "code",
   "execution_count": 2,
   "id": "5d530868",
   "metadata": {},
   "outputs": [
    {
     "data": {
      "text/plain": [
       "144"
      ]
     },
     "execution_count": 2,
     "metadata": {},
     "output_type": "execute_result"
    }
   ],
   "source": [
    "csvs_path = r\"C:\\Users\\jungeui_choi\\OneDrive\\Documentos\\Poli\\TPN\\CENPES Descarbonização\\data\\route_wind_data_csvs\\*\"\n",
    "\n",
    "csv_files = glob.glob(csvs_path)\n",
    "\n",
    "len(csv_files)"
   ]
  },
  {
   "cell_type": "code",
   "execution_count": 5,
   "id": "3fa5d01f",
   "metadata": {},
   "outputs": [],
   "source": [
    "def wind_dri(u10, v10):\n",
    "    return np.degrees(np.arctan2(u10, v10)) % 360"
   ]
  },
  {
   "cell_type": "code",
   "execution_count": null,
   "id": "501ccfda",
   "metadata": {},
   "outputs": [
    {
     "data": {
      "text/html": [
       "<div>\n",
       "<style scoped>\n",
       "    .dataframe tbody tr th:only-of-type {\n",
       "        vertical-align: middle;\n",
       "    }\n",
       "\n",
       "    .dataframe tbody tr th {\n",
       "        vertical-align: top;\n",
       "    }\n",
       "\n",
       "    .dataframe thead th {\n",
       "        text-align: right;\n",
       "    }\n",
       "</style>\n",
       "<table border=\"1\" class=\"dataframe\">\n",
       "  <thead>\n",
       "    <tr style=\"text-align: right;\">\n",
       "      <th></th>\n",
       "      <th>Unnamed: 0</th>\n",
       "      <th>LAT</th>\n",
       "      <th>LON</th>\n",
       "      <th>u10</th>\n",
       "      <th>v10</th>\n",
       "      <th>angle_ship</th>\n",
       "      <th>angle_wind</th>\n",
       "      <th>time</th>\n",
       "      <th>u_ship</th>\n",
       "      <th>v_ship</th>\n",
       "      <th>u_rel</th>\n",
       "      <th>v_rel</th>\n",
       "      <th>angle_rel</th>\n",
       "    </tr>\n",
       "  </thead>\n",
       "  <tbody>\n",
       "    <tr>\n",
       "      <th>0</th>\n",
       "      <td>0</td>\n",
       "      <td>-23.758190</td>\n",
       "      <td>-45.364452</td>\n",
       "      <td>-2.822388</td>\n",
       "      <td>-2.336868</td>\n",
       "      <td>80.775044</td>\n",
       "      <td>230.376083</td>\n",
       "      <td>2020-01-01 00:00:00</td>\n",
       "      <td>6.093505</td>\n",
       "      <td>0.989656</td>\n",
       "      <td>3.271117</td>\n",
       "      <td>-1.347212</td>\n",
       "      <td>112.384349</td>\n",
       "    </tr>\n",
       "    <tr>\n",
       "      <th>1</th>\n",
       "      <td>1</td>\n",
       "      <td>-23.758169</td>\n",
       "      <td>-45.364311</td>\n",
       "      <td>-2.822388</td>\n",
       "      <td>-2.336868</td>\n",
       "      <td>266.093458</td>\n",
       "      <td>230.376083</td>\n",
       "      <td>2020-01-01 00:00:02</td>\n",
       "      <td>-6.159004</td>\n",
       "      <td>-0.420585</td>\n",
       "      <td>-8.981392</td>\n",
       "      <td>-2.757454</td>\n",
       "      <td>252.932544</td>\n",
       "    </tr>\n",
       "    <tr>\n",
       "      <th>2</th>\n",
       "      <td>2</td>\n",
       "      <td>-23.758186</td>\n",
       "      <td>-45.364586</td>\n",
       "      <td>-2.822388</td>\n",
       "      <td>-2.336868</td>\n",
       "      <td>91.691485</td>\n",
       "      <td>230.376083</td>\n",
       "      <td>2020-01-01 00:00:06</td>\n",
       "      <td>6.170658</td>\n",
       "      <td>-0.182223</td>\n",
       "      <td>3.348270</td>\n",
       "      <td>-2.519091</td>\n",
       "      <td>126.956196</td>\n",
       "    </tr>\n",
       "    <tr>\n",
       "      <th>3</th>\n",
       "      <td>3</td>\n",
       "      <td>-23.758194</td>\n",
       "      <td>-45.364304</td>\n",
       "      <td>-2.822388</td>\n",
       "      <td>-2.336868</td>\n",
       "      <td>274.126822</td>\n",
       "      <td>230.376083</td>\n",
       "      <td>2020-01-01 00:00:11</td>\n",
       "      <td>-6.157341</td>\n",
       "      <td>0.444261</td>\n",
       "      <td>-8.979729</td>\n",
       "      <td>-1.892607</td>\n",
       "      <td>258.098281</td>\n",
       "    </tr>\n",
       "    <tr>\n",
       "      <th>4</th>\n",
       "      <td>4</td>\n",
       "      <td>-23.758181</td>\n",
       "      <td>-45.364506</td>\n",
       "      <td>-2.822388</td>\n",
       "      <td>-2.336868</td>\n",
       "      <td>317.533563</td>\n",
       "      <td>230.376083</td>\n",
       "      <td>2020-01-01 00:00:14</td>\n",
       "      <td>-4.167986</td>\n",
       "      <td>4.553912</td>\n",
       "      <td>-6.990374</td>\n",
       "      <td>2.217043</td>\n",
       "      <td>287.596768</td>\n",
       "    </tr>\n",
       "  </tbody>\n",
       "</table>\n",
       "</div>"
      ],
      "text/plain": [
       "   Unnamed: 0        LAT        LON       u10       v10  angle_ship  \\\n",
       "0           0 -23.758190 -45.364452 -2.822388 -2.336868   80.775044   \n",
       "1           1 -23.758169 -45.364311 -2.822388 -2.336868  266.093458   \n",
       "2           2 -23.758186 -45.364586 -2.822388 -2.336868   91.691485   \n",
       "3           3 -23.758194 -45.364304 -2.822388 -2.336868  274.126822   \n",
       "4           4 -23.758181 -45.364506 -2.822388 -2.336868  317.533563   \n",
       "\n",
       "   angle_wind                 time    u_ship    v_ship     u_rel     v_rel  \\\n",
       "0  230.376083  2020-01-01 00:00:00  6.093505  0.989656  3.271117 -1.347212   \n",
       "1  230.376083  2020-01-01 00:00:02 -6.159004 -0.420585 -8.981392 -2.757454   \n",
       "2  230.376083  2020-01-01 00:00:06  6.170658 -0.182223  3.348270 -2.519091   \n",
       "3  230.376083  2020-01-01 00:00:11 -6.157341  0.444261 -8.979729 -1.892607   \n",
       "4  230.376083  2020-01-01 00:00:14 -4.167986  4.553912 -6.990374  2.217043   \n",
       "\n",
       "    angle_rel  \n",
       "0  112.384349  \n",
       "1  252.932544  \n",
       "2  126.956196  \n",
       "3  258.098281  \n",
       "4  287.596768  "
      ]
     },
     "execution_count": 3,
     "metadata": {},
     "output_type": "execute_result"
    }
   ],
   "source": [
    "csv_file = csv_files[0]\n",
    "\n",
    "df = pd.read_csv(csv_file)\n",
    "df.head()\n",
    "df['u_rel'] = df['u10'] - df['u_ship']\n",
    "df['v_rel'] = df['v10'] - df['v_ship']\n",
    "df['u_rel'] = "
   ]
  },
  {
   "cell_type": "code",
   "execution_count": null,
   "id": "e0ecc91e",
   "metadata": {},
   "outputs": [],
   "source": []
  }
 ],
 "metadata": {
  "kernelspec": {
   "display_name": "base",
   "language": "python",
   "name": "python3"
  },
  "language_info": {
   "codemirror_mode": {
    "name": "ipython",
    "version": 3
   },
   "file_extension": ".py",
   "mimetype": "text/x-python",
   "name": "python",
   "nbconvert_exporter": "python",
   "pygments_lexer": "ipython3",
   "version": "3.11.7"
  }
 },
 "nbformat": 4,
 "nbformat_minor": 5
}
