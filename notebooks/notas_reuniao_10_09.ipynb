{
 "cells": [
  {
   "cell_type": "markdown",
   "id": "ba5ed773",
   "metadata": {},
   "source": [
    "## Reunião 10/09"
   ]
  },
  {
   "cell_type": "markdown",
   "id": "c218dfb2",
   "metadata": {},
   "source": [
    "- estabelecer o mesmo limite eixo x\n",
    "- fazer o histograma junto de 100 rpm e 180 rpm\n",
    "- cenario 1 e 2: tudo ligado com 100 e 180\n",
    "- cenario 3 e 4: desligar rotores 100 e 180\n",
    "- cenario 5: cenário ótimo\n",
    "\n",
    "### Aframax\n",
    "- Histograma de velocidades relativas de vento. velocidade do aframax é 12.5 nós"
   ]
  },
  {
   "cell_type": "markdown",
   "id": "d793f7b4",
   "metadata": {},
   "source": []
  }
 ],
 "metadata": {
  "language_info": {
   "name": "python"
  }
 },
 "nbformat": 4,
 "nbformat_minor": 5
}
