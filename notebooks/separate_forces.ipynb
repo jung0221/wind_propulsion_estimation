{
 "cells": [
  {
   "cell_type": "code",
   "execution_count": 15,
   "id": "e91a8edb",
   "metadata": {},
   "outputs": [],
   "source": [
    "import pandas as pd\n",
    "import numpy as np"
   ]
  },
  {
   "cell_type": "code",
   "execution_count": 16,
   "id": "058ca7f5",
   "metadata": {},
   "outputs": [],
   "source": [
    "df_rotores = pd.read_csv('../../abdias_suez/forces_V1.csv')\n",
    "df_total = pd.read_csv('../../abdias_suez/forces_V2.csv')\n"
   ]
  },
  {
   "cell_type": "code",
   "execution_count": 17,
   "id": "546e171f",
   "metadata": {},
   "outputs": [],
   "source": [
    "df_total['fx_rotores'] = (df_rotores['Fx_popa_bom'] + df_rotores['Fx_popa_bor'] + df_rotores['Fx_proa_bom'] + df_rotores['Fx_proa_bor'])/1000\n",
    "df_total['fy_rotores'] = (df_rotores['Fy_popa_bom'] + df_rotores['Fy_popa_bor'] + df_rotores['Fy_proa_bom'] + df_rotores['Fy_proa_bor'])/1000\n",
    "df_total['fx_casco_sup'] = df_total['fx'] - df_total['fx_rotores']\n",
    "df_total['fy_casco_sup'] = df_total['fy'] - df_total['fy_rotores']\n",
    "\n",
    "parcela_x_rotores = df_total['fx_rotores'] / df_total['fx']\n",
    "parcela_x_casco_sup = df_total['fx_casco_sup'] / df_total['fx']\n",
    "parcela_y_rotores = df_total['fy_rotores'] / df_total['fy']\n",
    "parcela_y_casco_sup = df_total['fy_casco_sup'] / df_total['fy']\n",
    "\n",
    "df_total['cx_rotores'] = df_total['cx'] * parcela_x_rotores\n",
    "df_total['cx_casco_sup'] = df_total['cx'] * parcela_x_casco_sup\n",
    "\n",
    "df_total['cy_rotores'] = df_total['cy'] * parcela_y_rotores\n",
    "df_total['cy_casco_sup'] = df_total['cy'] * parcela_y_casco_sup\n",
    "df_total['Mz_popa_bom'] = np.abs(df_rotores['Mz_popa_bom'])\n",
    "df_total['Mz_popa_bor'] = np.abs(df_rotores['Mz_popa_bor'])\n",
    "df_total['Mz_proa_bom'] = np.abs(df_rotores['Mz_proa_bom'])\n",
    "df_total['Mz_proa_bor'] = np.abs(df_rotores['Mz_proa_bor'])\n",
    "df_total['Mz_total'] = df_total['Mz_popa_bom'] + df_total['Mz_popa_bor'] + df_total['Mz_proa_bom'] + df_total['Mz_proa_bor']\n"
   ]
  },
  {
   "cell_type": "code",
   "execution_count": 18,
   "id": "836d64a1",
   "metadata": {},
   "outputs": [],
   "source": [
    "df_total.to_csv('../../abdias_suez/forces_CFD.csv')"
   ]
  },
  {
   "cell_type": "code",
   "execution_count": 19,
   "id": "0e1dcf2b",
   "metadata": {},
   "outputs": [
    {
     "data": {
      "text/plain": [
       "7997.900000000001"
      ]
     },
     "execution_count": 19,
     "metadata": {},
     "output_type": "execute_result"
    }
   ],
   "source": [
    "df_total['Mz_total'].min()\n"
   ]
  },
  {
   "cell_type": "code",
   "execution_count": 20,
   "id": "621616ad",
   "metadata": {},
   "outputs": [
    {
     "data": {
      "image/png": "[encoded data removed]",
      "text/plain": [
       "<Figure size 640x480 with 1 Axes>"
      ]
     },
     "metadata": {},
     "output_type": "display_data"
    }
   ],
   "source": [
    "import matplotlib.pyplot as plt\n",
    "plt.hist(df_total['Mz_total'], bins=100)\n",
    "plt.show()"
   ]
  },
  {
   "cell_type": "code",
   "execution_count": null,
   "id": "833fc0c9",
   "metadata": {},
   "outputs": [],
   "source": []
  }
 ],
 "metadata": {
  "kernelspec": {
   "display_name": "base",
   "language": "python",
   "name": "python3"
  },
  "language_info": {
   "codemirror_mode": {
    "name": "ipython",
    "version": 3
   },
   "file_extension": ".py",
   "mimetype": "text/x-python",
   "name": "python",
   "nbconvert_exporter": "python",
   "pygments_lexer": "ipython3",
   "version": "3.12.4"
  }
 },
 "nbformat": 4,
 "nbformat_minor": 5
}
