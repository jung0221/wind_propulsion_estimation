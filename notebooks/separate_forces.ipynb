{
 "cells": [
  {
   "cell_type": "code",
   "execution_count": 1,
   "id": "e91a8edb",
   "metadata": {},
   "outputs": [],
   "source": [
    "import pandas as pd"
   ]
  },
  {
   "cell_type": "code",
   "execution_count": 2,
   "id": "058ca7f5",
   "metadata": {},
   "outputs": [],
   "source": [
    "df_rotores = pd.read_csv('../../abdias_suez/forces_V1.csv')\n",
    "df_total = pd.read_csv('../../abdias_suez/forces_V2.csv')\n"
   ]
  },
  {
   "cell_type": "code",
   "execution_count": 6,
   "id": "546e171f",
   "metadata": {},
   "outputs": [],
   "source": [
    "df_total['fx_rotores'] = (df_rotores['Fx_popa_bom'] + df_rotores['Fx_popa_bor'] + df_rotores['Fx_proa_bom'] + df_rotores['Fx_proa_bor'])/1000\n",
    "df_total['fy_rotores'] = (df_rotores['Fy_popa_bom'] + df_rotores['Fy_popa_bor'] + df_rotores['Fy_proa_bom'] + df_rotores['Fy_proa_bor'])/1000\n",
    "df_total['fx_casco_sup'] = df_total['fx'] - df_total['fx_rotores']\n",
    "df_total['fy_casco_sup'] = df_total['fy'] - df_total['fy_rotores']\n"
   ]
  },
  {
   "cell_type": "code",
   "execution_count": 8,
   "id": "836d64a1",
   "metadata": {},
   "outputs": [],
   "source": [
    "df_total.to_csv('../../abdias_suez/forces_V3.csv')"
   ]
  },
  {
   "cell_type": "code",
   "execution_count": null,
   "id": "621616ad",
   "metadata": {},
   "outputs": [],
   "source": []
  }
 ],
 "metadata": {
  "kernelspec": {
   "display_name": "base",
   "language": "python",
   "name": "python3"
  },
  "language_info": {
   "codemirror_mode": {
    "name": "ipython",
    "version": 3
   },
   "file_extension": ".py",
   "mimetype": "text/x-python",
   "name": "python",
   "nbconvert_exporter": "python",
   "pygments_lexer": "ipython3",
   "version": "3.12.4"
  }
 },
 "nbformat": 4,
 "nbformat_minor": 5
}
